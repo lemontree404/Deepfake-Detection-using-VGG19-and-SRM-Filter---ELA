{
 "cells": [
  {
   "cell_type": "code",
   "execution_count": 2,
   "metadata": {},
   "outputs": [],
   "source": [
    "import os\n",
    "import numpy as np\n",
    "import cv2\n",
    "import pandas as pd\n",
    "import tensorflow as tf\n",
    "from keras.preprocessing.image import ImageDataGenerator\n",
    "from keras.models import Sequential\n",
    "from keras.layers import Dense, Dropout, Flatten, BatchNormalization, MaxPool2D, Conv2D\n",
    "from keras.applications.vgg19 import VGG19\n",
    "from sklearn.model_selection import train_test_split\n",
    "from keras.metrics import Recall,Precision,AUC\n",
    "from sklearn.metrics import classification_report,confusion_matrix\n",
    "from keras.models import save_model, load_model"
   ]
  },
  {
   "cell_type": "code",
   "execution_count": 33,
   "metadata": {},
   "outputs": [],
   "source": [
    "data = []\n",
    "\n",
    "for i in [\"real_images_ela\",\"fake_images_ela\"]:\n",
    "\n",
    "    if i==\"real_images_ela\":\n",
    "        label = 'real'\n",
    "    else:\n",
    "        label = 'fake'\n",
    "\n",
    "    data += [[f\"{i}/{j}\",label] for j in os.listdir(i)]"
   ]
  },
  {
   "cell_type": "code",
   "execution_count": 34,
   "metadata": {},
   "outputs": [
    {
     "data": {
      "text/plain": [
       "6499"
      ]
     },
     "execution_count": 34,
     "metadata": {},
     "output_type": "execute_result"
    }
   ],
   "source": [
    "len(data)"
   ]
  },
  {
   "cell_type": "code",
   "execution_count": 35,
   "metadata": {},
   "outputs": [
    {
     "data": {
      "text/html": [
       "<div>\n",
       "<style scoped>\n",
       "    .dataframe tbody tr th:only-of-type {\n",
       "        vertical-align: middle;\n",
       "    }\n",
       "\n",
       "    .dataframe tbody tr th {\n",
       "        vertical-align: top;\n",
       "    }\n",
       "\n",
       "    .dataframe thead th {\n",
       "        text-align: right;\n",
       "    }\n",
       "</style>\n",
       "<table border=\"1\" class=\"dataframe\">\n",
       "  <thead>\n",
       "    <tr style=\"text-align: right;\">\n",
       "      <th></th>\n",
       "      <th>path</th>\n",
       "      <th>label</th>\n",
       "    </tr>\n",
       "  </thead>\n",
       "  <tbody>\n",
       "    <tr>\n",
       "      <th>0</th>\n",
       "      <td>fake_images_ela/2377.png</td>\n",
       "      <td>fake</td>\n",
       "    </tr>\n",
       "    <tr>\n",
       "      <th>1</th>\n",
       "      <td>real_images_ela/1579.png</td>\n",
       "      <td>real</td>\n",
       "    </tr>\n",
       "    <tr>\n",
       "      <th>2</th>\n",
       "      <td>real_images_ela/1874.png</td>\n",
       "      <td>real</td>\n",
       "    </tr>\n",
       "    <tr>\n",
       "      <th>3</th>\n",
       "      <td>real_images_ela/2351.png</td>\n",
       "      <td>real</td>\n",
       "    </tr>\n",
       "    <tr>\n",
       "      <th>4</th>\n",
       "      <td>real_images_ela/2300.png</td>\n",
       "      <td>real</td>\n",
       "    </tr>\n",
       "    <tr>\n",
       "      <th>...</th>\n",
       "      <td>...</td>\n",
       "      <td>...</td>\n",
       "    </tr>\n",
       "    <tr>\n",
       "      <th>6494</th>\n",
       "      <td>fake_images_ela/1475.png</td>\n",
       "      <td>fake</td>\n",
       "    </tr>\n",
       "    <tr>\n",
       "      <th>6495</th>\n",
       "      <td>real_images_ela/1565.png</td>\n",
       "      <td>real</td>\n",
       "    </tr>\n",
       "    <tr>\n",
       "      <th>6496</th>\n",
       "      <td>fake_images_ela/2821.png</td>\n",
       "      <td>fake</td>\n",
       "    </tr>\n",
       "    <tr>\n",
       "      <th>6497</th>\n",
       "      <td>fake_images_ela/2002.png</td>\n",
       "      <td>fake</td>\n",
       "    </tr>\n",
       "    <tr>\n",
       "      <th>6498</th>\n",
       "      <td>fake_images_ela/1243.png</td>\n",
       "      <td>fake</td>\n",
       "    </tr>\n",
       "  </tbody>\n",
       "</table>\n",
       "<p>6499 rows × 2 columns</p>\n",
       "</div>"
      ],
      "text/plain": [
       "                          path label\n",
       "0     fake_images_ela/2377.png  fake\n",
       "1     real_images_ela/1579.png  real\n",
       "2     real_images_ela/1874.png  real\n",
       "3     real_images_ela/2351.png  real\n",
       "4     real_images_ela/2300.png  real\n",
       "...                        ...   ...\n",
       "6494  fake_images_ela/1475.png  fake\n",
       "6495  real_images_ela/1565.png  real\n",
       "6496  fake_images_ela/2821.png  fake\n",
       "6497  fake_images_ela/2002.png  fake\n",
       "6498  fake_images_ela/1243.png  fake\n",
       "\n",
       "[6499 rows x 2 columns]"
      ]
     },
     "execution_count": 35,
     "metadata": {},
     "output_type": "execute_result"
    }
   ],
   "source": [
    "db = pd.DataFrame(data,columns=[\"path\",\"label\"])\n",
    "db = db.sample(frac=1)\n",
    "db.reset_index(inplace=True)\n",
    "db.drop(\"index\",axis=1,inplace=True)\n",
    "db"
   ]
  },
  {
   "cell_type": "code",
   "execution_count": 36,
   "metadata": {},
   "outputs": [
    {
     "name": "stdout",
     "output_type": "stream",
     "text": [
      "path     5199\n",
      "label    5199\n",
      "dtype: int64\n",
      "path     1300\n",
      "label    1300\n",
      "dtype: int64\n"
     ]
    }
   ],
   "source": [
    "train_db, test_db = train_test_split(db, test_size=0.2, random_state=2, shuffle=True)\n",
    "print(train_db.count())\n",
    "print(test_db.count())"
   ]
  },
  {
   "cell_type": "code",
   "execution_count": 37,
   "metadata": {},
   "outputs": [
    {
     "name": "stdout",
     "output_type": "stream",
     "text": [
      "Found 4160 validated image filenames belonging to 2 classes.\n",
      "Found 1039 validated image filenames belonging to 2 classes.\n",
      "Found 1300 validated image filenames belonging to 2 classes.\n"
     ]
    }
   ],
   "source": [
    "train_generator = ImageDataGenerator(validation_split=0.2)\n",
    "test_generator = ImageDataGenerator()\n",
    "\n",
    "train_imgs = train_generator.flow_from_dataframe(\n",
    "    dataframe = train_db,\n",
    "    x_col = \"path\",\n",
    "    y_col = \"label\",\n",
    "    target_size = (128, 128),\n",
    "    color_mode = \"rgb\",\n",
    "    class_mode = \"categorical\",\n",
    "    batch_size = 32,\n",
    "    shuffle = True,\n",
    "    subset = \"training\"\n",
    ")\n",
    "\n",
    "val_imgs = train_generator.flow_from_dataframe(\n",
    "    dataframe = train_db,\n",
    "    x_col = \"path\",\n",
    "    y_col = \"label\",\n",
    "    target_size = (128, 128),\n",
    "    color_mode = \"rgb\",\n",
    "    class_mode = \"categorical\",\n",
    "    batch_size = 32,\n",
    "    shuffle = True,\n",
    "    subset = \"validation\"\n",
    ")\n",
    "\n",
    "test_imgs = test_generator.flow_from_dataframe(\n",
    "    dataframe = test_db,\n",
    "    x_col = \"path\",\n",
    "    y_col = \"label\",\n",
    "    target_size = (128, 128),\n",
    "    color_mode = \"rgb\",\n",
    "    class_mode = \"categorical\",\n",
    "    batch_size = 32,\n",
    "    shuffle = False\n",
    ")"
   ]
  },
  {
   "cell_type": "code",
   "execution_count": 38,
   "metadata": {},
   "outputs": [],
   "source": [
    "base_model = VGG19(input_shape=(128, 128, 3), \n",
    "                         include_top=False,\n",
    "                         weights=\"imagenet\")"
   ]
  },
  {
   "cell_type": "code",
   "execution_count": 39,
   "metadata": {},
   "outputs": [],
   "source": [
    "for layer in base_model.layers:\n",
    "    layer.trainable=False"
   ]
  },
  {
   "cell_type": "code",
   "execution_count": 40,
   "metadata": {},
   "outputs": [],
   "source": [
    "ela_model=Sequential()\n",
    "ela_model.add(base_model)\n",
    "ela_model.add(Dropout(0.5))\n",
    "ela_model.add(Flatten())\n",
    "ela_model.add(BatchNormalization())\n",
    "ela_model.add(Dense(512,\"relu\",kernel_initializer=\"he_uniform\"))\n",
    "ela_model.add(BatchNormalization())\n",
    "ela_model.add(Dense(2,activation='sigmoid'))"
   ]
  },
  {
   "cell_type": "code",
   "execution_count": 41,
   "metadata": {},
   "outputs": [
    {
     "name": "stdout",
     "output_type": "stream",
     "text": [
      "Model: \"sequential_2\"\n",
      "_________________________________________________________________\n",
      " Layer (type)                Output Shape              Param #   \n",
      "=================================================================\n",
      " vgg19 (Functional)          (None, 4, 4, 512)         20024384  \n",
      "                                                                 \n",
      " dropout_2 (Dropout)         (None, 4, 4, 512)         0         \n",
      "                                                                 \n",
      " flatten_2 (Flatten)         (None, 8192)              0         \n",
      "                                                                 \n",
      " batch_normalization_4 (Bat  (None, 8192)              32768     \n",
      " chNormalization)                                                \n",
      "                                                                 \n",
      " dense_4 (Dense)             (None, 512)               4194816   \n",
      "                                                                 \n",
      " batch_normalization_5 (Bat  (None, 512)               2048      \n",
      " chNormalization)                                                \n",
      "                                                                 \n",
      " dense_5 (Dense)             (None, 2)                 1026      \n",
      "                                                                 \n",
      "=================================================================\n",
      "Total params: 24255042 (92.53 MB)\n",
      "Trainable params: 4213250 (16.07 MB)\n",
      "Non-trainable params: 20041792 (76.45 MB)\n",
      "_________________________________________________________________\n"
     ]
    }
   ],
   "source": [
    "ela_model.summary()"
   ]
  },
  {
   "cell_type": "code",
   "execution_count": 42,
   "metadata": {},
   "outputs": [],
   "source": [
    "ela_model.compile(loss='binary_crossentropy',\n",
    "              metrics=['accuracy',Precision(),Recall(),AUC()],\n",
    "              optimizer=tf.keras.optimizers.Adam(learning_rate=0.001))"
   ]
  },
  {
   "cell_type": "code",
   "execution_count": 43,
   "metadata": {},
   "outputs": [],
   "source": [
    "earlystopping = tf.keras.callbacks.EarlyStopping(monitor = 'val_accuracy', \n",
    "                              mode = 'max' , \n",
    "                              patience = 5,\n",
    "                              verbose = 1)\n",
    "\n",
    "callback_list = [earlystopping]"
   ]
  },
  {
   "cell_type": "code",
   "execution_count": 44,
   "metadata": {},
   "outputs": [
    {
     "name": "stdout",
     "output_type": "stream",
     "text": [
      "Epoch 1/10\n",
      "130/130 [==============================] - 180s 1s/step - loss: 0.0063 - accuracy: 0.9969 - precision_2: 0.9966 - recall_2: 0.9964 - auc_2: 1.0000 - val_loss: 1.1446e-05 - val_accuracy: 1.0000 - val_precision_2: 1.0000 - val_recall_2: 1.0000 - val_auc_2: 1.0000\n",
      "Epoch 2/10\n",
      "130/130 [==============================] - 179s 1s/step - loss: 3.2565e-04 - accuracy: 1.0000 - precision_2: 0.9998 - recall_2: 1.0000 - auc_2: 1.0000 - val_loss: 4.8303e-05 - val_accuracy: 1.0000 - val_precision_2: 1.0000 - val_recall_2: 1.0000 - val_auc_2: 1.0000\n",
      "Epoch 3/10\n",
      "130/130 [==============================] - 178s 1s/step - loss: 0.0024 - accuracy: 0.9995 - precision_2: 0.9990 - recall_2: 0.9995 - auc_2: 1.0000 - val_loss: 4.7906e-04 - val_accuracy: 1.0000 - val_precision_2: 1.0000 - val_recall_2: 1.0000 - val_auc_2: 1.0000\n",
      "Epoch 4/10\n",
      "130/130 [==============================] - 184s 1s/step - loss: 6.2810e-05 - accuracy: 1.0000 - precision_2: 1.0000 - recall_2: 1.0000 - auc_2: 1.0000 - val_loss: 0.0014 - val_accuracy: 1.0000 - val_precision_2: 0.9981 - val_recall_2: 1.0000 - val_auc_2: 1.0000\n",
      "Epoch 5/10\n",
      "130/130 [==============================] - 183s 1s/step - loss: 5.9294e-05 - accuracy: 1.0000 - precision_2: 1.0000 - recall_2: 1.0000 - auc_2: 1.0000 - val_loss: 4.7937e-04 - val_accuracy: 1.0000 - val_precision_2: 1.0000 - val_recall_2: 1.0000 - val_auc_2: 1.0000\n",
      "Epoch 6/10\n",
      "130/130 [==============================] - 180s 1s/step - loss: 1.4087e-04 - accuracy: 1.0000 - precision_2: 1.0000 - recall_2: 1.0000 - auc_2: 1.0000 - val_loss: 3.5445e-04 - val_accuracy: 1.0000 - val_precision_2: 0.9990 - val_recall_2: 1.0000 - val_auc_2: 1.0000\n",
      "Epoch 6: early stopping\n"
     ]
    }
   ],
   "source": [
    "hist = ela_model.fit(train_imgs,\n",
    "                    validation_data=val_imgs,\n",
    "                    epochs = 10,\n",
    "                    callbacks = callback_list)"
   ]
  },
  {
   "cell_type": "code",
   "execution_count": 45,
   "metadata": {},
   "outputs": [
    {
     "name": "stderr",
     "output_type": "stream",
     "text": [
      "C:\\Users\\manav\\AppData\\Local\\Temp\\ipykernel_1300\\1418637721.py:1: UserWarning: You are saving your model as an HDF5 file via `model.save()`. This file format is considered legacy. We recommend using instead the native Keras format, e.g. `model.save('my_model.keras')`.\n",
      "  save_model(ela_model,\"ela_model.h5\")\n"
     ]
    }
   ],
   "source": [
    "save_model(ela_model,\"ela_model.h5\")"
   ]
  },
  {
   "cell_type": "markdown",
   "metadata": {},
   "source": []
  },
  {
   "cell_type": "code",
   "execution_count": 15,
   "metadata": {},
   "outputs": [
    {
     "data": {
      "image/png": "[encoded data removed]",
      "text/plain": [
       "<Figure size 640x480 with 2 Axes>"
      ]
     },
     "metadata": {},
     "output_type": "display_data"
    }
   ],
   "source": [
    "import matplotlib.pyplot as plt\n",
    "\n",
    "fig,ax = plt.subplots(2,1)\n",
    "ax[0].plot(hist.history[\"auc\"])\n",
    "ax[0].set_title(\"Val. AUC\")\n",
    "\n",
    "ax[1].plot(hist.history[\"accuracy\"])\n",
    "ax[1].set_title(\"Val. Accuracy\")\n",
    "\n",
    "fig.suptitle(f\"srm_model Metrics\")\n",
    "fig.set_tight_layout(True)"
   ]
  },
  {
   "cell_type": "code",
   "execution_count": 48,
   "metadata": {},
   "outputs": [
    {
     "data": {
      "image/png": "[encoded data removed]",
      "text/plain": [
       "<Figure size 640x480 with 2 Axes>"
      ]
     },
     "metadata": {},
     "output_type": "display_data"
    }
   ],
   "source": [
    "import matplotlib.pyplot as plt\n",
    "\n",
    "fig,ax = plt.subplots(2,1)\n",
    "ax[0].plot(hist.history[\"auc_2\"])\n",
    "ax[0].set_title(\"Val. AUC\")\n",
    "\n",
    "ax[1].plot(hist.history[\"accuracy\"])\n",
    "ax[1].set_title(\"Val. Accuracy\")\n",
    "\n",
    "fig.suptitle(f\"ela_model Metrics\")\n",
    "fig.set_tight_layout(True)"
   ]
  },
  {
   "cell_type": "code",
   "execution_count": 17,
   "metadata": {},
   "outputs": [
    {
     "name": "stdout",
     "output_type": "stream",
     "text": [
      "41/41 [==============================] - 45s 1s/step\n"
     ]
    }
   ],
   "source": [
    "y_pred = model.predict(test_imgs).argmax(axis=1)"
   ]
  },
  {
   "cell_type": "code",
   "execution_count": 19,
   "metadata": {},
   "outputs": [
    {
     "name": "stdout",
     "output_type": "stream",
     "text": [
      "----------------------SRM Classifier ------------------------\n",
      "              precision    recall  f1-score   support\n",
      "\n",
      "           0       1.00      1.00      1.00       628\n",
      "           1       1.00      1.00      1.00       672\n",
      "\n",
      "    accuracy                           1.00      1300\n",
      "   macro avg       1.00      1.00      1.00      1300\n",
      "weighted avg       1.00      1.00      1.00      1300\n",
      "\n"
     ]
    }
   ],
   "source": [
    "report = classification_report(test_imgs.labels,y_pred)\n",
    "print(\"----------------------SRM Classifier ------------------------\")\n",
    "print(report)"
   ]
  },
  {
   "cell_type": "code",
   "execution_count": 46,
   "metadata": {},
   "outputs": [
    {
     "name": "stdout",
     "output_type": "stream",
     "text": [
      "41/41 [==============================] - 43s 1s/step\n",
      "----------------------ELA Classifier ------------------------\n",
      "              precision    recall  f1-score   support\n",
      "\n",
      "           0       1.00      1.00      1.00       647\n",
      "           1       1.00      1.00      1.00       653\n",
      "\n",
      "    accuracy                           1.00      1300\n",
      "   macro avg       1.00      1.00      1.00      1300\n",
      "weighted avg       1.00      1.00      1.00      1300\n",
      "\n"
     ]
    }
   ],
   "source": [
    "y_pred_ela = ela_model.predict(test_imgs).argmax(axis=1)\n",
    "ela_report = classification_report(test_imgs.labels,y_pred_ela)\n",
    "print(\"----------------------ELA Classifier ------------------------\")\n",
    "print(ela_report)"
   ]
  },
  {
   "cell_type": "code",
   "execution_count": null,
   "metadata": {},
   "outputs": [],
   "source": []
  }
 ],
 "metadata": {
  "kernelspec": {
   "display_name": "Python 3",
   "language": "python",
   "name": "python3"
  },
  "language_info": {
   "codemirror_mode": {
    "name": "ipython",
    "version": 3
   },
   "file_extension": ".py",
   "mimetype": "text/x-python",
   "name": "python",
   "nbconvert_exporter": "python",
   "pygments_lexer": "ipython3",
   "version": "3.10.11"
  }
 },
 "nbformat": 4,
 "nbformat_minor": 2
}
